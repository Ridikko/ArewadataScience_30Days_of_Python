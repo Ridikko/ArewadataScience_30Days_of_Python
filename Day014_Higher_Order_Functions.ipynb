{
 "cells": [
  {
   "attachments": {},
   "cell_type": "markdown",
   "metadata": {},
   "source": [
    "## DAY 14"
   ]
  },
  {
   "attachments": {},
   "cell_type": "markdown",
   "metadata": {},
   "source": [
    "### Exercises: Level 1"
   ]
  },
  {
   "cell_type": "code",
   "execution_count": 1,
   "metadata": {},
   "outputs": [],
   "source": [
    "countries = ['Nigeria', 'Niger', 'Ghana', 'Togo', 'Benin', 'Senegal']\n",
    "names = ['Rufai', 'DanFullo', 'Sipikin', 'Niasse']\n",
    "numbers = [1, 2, 3, 4, 5, 6, 7, 8, 9, 10]"
   ]
  },
  {
   "attachments": {},
   "cell_type": "markdown",
   "metadata": {},
   "source": [
    "#### Question 1: Explain the difference between map, filter, and reduce."
   ]
  },
  {
   "cell_type": "code",
   "execution_count": null,
   "metadata": {},
   "outputs": [],
   "source": [
    "MAP: The map() function iterates through all items in the given iterable and executes the function we passed as an \n",
    "argument on each of them.\n",
    "\n",
    "The syntax is: map(function, iterable(s))\n",
    "\n",
    "FILTER: filter() takes a function object and an iterable and creates a new list.\n",
    "\n",
    "filter() forms a new list that contains only elements that satisfy a certain condition, \n",
    "i.e. the function we passed returns True.\n",
    "\n",
    "The syntax is: filter(function, iterable(s))\n",
    "\n",
    "REDUCE: reduce() works differently than map() and filter(). It does not return a new list based on the function and \n",
    "iterable we have passed. Instead, it returns a single value.\n",
    "\n",
    "In Python 3; reduce() isn't a built-in function anymore, and it can be found in the functools module.\n",
    "\n",
    "The syntax is: reduce(function, sequence[, initial])"
   ]
  },
  {
   "attachments": {},
   "cell_type": "markdown",
   "metadata": {},
   "source": [
    "#### Question 2: Explain the difference between higher order function, closure and decorator"
   ]
  },
  {
   "cell_type": "code",
   "execution_count": null,
   "metadata": {},
   "outputs": [],
   "source": [
    "HIGHER ORDER FUNCTION: A higher order function is a function that takes a function as an argument OR* returns a function.\n",
    "\n",
    "DECORATOR: A decorator in Python is (typically) an example of a higher-order function, but there are decorators that are not\n",
    "(class decorators**, and decorators that aren't functions), and there are higher-order functions that aren't decorators, \n",
    "for example those that take two required arguments that are functions.\n",
    "\n",
    "CLOSURES: Closures are nested functions that capture non-local variables of the outer functions."
   ]
  },
  {
   "attachments": {},
   "cell_type": "markdown",
   "metadata": {},
   "source": [
    "#### Question 3: Define a call function before map, filter or reduce, see examples."
   ]
  },
  {
   "attachments": {},
   "cell_type": "markdown",
   "metadata": {},
   "source": [
    "#### Question 4:Use for loop to print each country in the countries list."
   ]
  },
  {
   "cell_type": "code",
   "execution_count": 1,
   "metadata": {},
   "outputs": [
    {
     "name": "stdout",
     "output_type": "stream",
     "text": [
      "Nigeria\n",
      "Niger\n",
      "Ghana\n",
      "Togo\n",
      "Benin\n",
      "Senegal\n"
     ]
    }
   ],
   "source": [
    "countries = ['Nigeria', 'Niger', 'Ghana', 'Togo', 'Benin', 'Senegal']\n",
    "for i in countries:\n",
    "    print(i)"
   ]
  },
  {
   "attachments": {},
   "cell_type": "markdown",
   "metadata": {},
   "source": [
    "#### Question 5: Use for to print each name in the names list."
   ]
  },
  {
   "cell_type": "code",
   "execution_count": 2,
   "metadata": {},
   "outputs": [
    {
     "name": "stdout",
     "output_type": "stream",
     "text": [
      "Rufai\n",
      "DanFullo\n",
      "Sipikin\n",
      "Niasse\n"
     ]
    }
   ],
   "source": [
    "names = ['Rufai', 'DanFullo', 'Sipikin', 'Niasse']\n",
    "for i in names:\n",
    "    print(i)"
   ]
  },
  {
   "attachments": {},
   "cell_type": "markdown",
   "metadata": {},
   "source": [
    "#### Question 6: Use for to print each number in the numbers list."
   ]
  },
  {
   "cell_type": "code",
   "execution_count": 3,
   "metadata": {},
   "outputs": [
    {
     "name": "stdout",
     "output_type": "stream",
     "text": [
      "1\n",
      "2\n",
      "3\n",
      "4\n",
      "5\n",
      "6\n",
      "7\n",
      "8\n",
      "9\n",
      "10\n"
     ]
    }
   ],
   "source": [
    "numbers = [1, 2, 3, 4, 5, 6, 7, 8, 9, 10]\n",
    "for i in numbers:\n",
    "    print(i)"
   ]
  },
  {
   "attachments": {},
   "cell_type": "markdown",
   "metadata": {},
   "source": [
    "### Exercises: Level 2"
   ]
  },
  {
   "attachments": {},
   "cell_type": "markdown",
   "metadata": {},
   "source": [
    "#### Question 1: Use map to create a new list by changing each country to uppercase in the countries list"
   ]
  },
  {
   "cell_type": "code",
   "execution_count": 4,
   "metadata": {},
   "outputs": [
    {
     "name": "stdout",
     "output_type": "stream",
     "text": [
      "['NIGERIA', 'NIGER', 'GHANA', 'TOGO', 'BENIN', 'SENEGAL']\n"
     ]
    }
   ],
   "source": [
    "def change_to_upper(countries):\n",
    "    return countries.upper()\n",
    "\n",
    "countries_upper_cased = map(change_to_upper, countries)\n",
    "print(list(countries_upper_cased))  "
   ]
  },
  {
   "attachments": {},
   "cell_type": "markdown",
   "metadata": {},
   "source": [
    "#### Question 2: Use map to create a new list by changing each number to its square in the numbers list"
   ]
  },
  {
   "cell_type": "code",
   "execution_count": 5,
   "metadata": {},
   "outputs": [
    {
     "name": "stdout",
     "output_type": "stream",
     "text": [
      "[1, 4, 9, 16, 25, 36, 49, 64, 81, 100]\n"
     ]
    }
   ],
   "source": [
    "def square(x):\n",
    "    return x ** 2\n",
    "numbers_squared = map(square, numbers)\n",
    "print(list(numbers_squared))    "
   ]
  },
  {
   "attachments": {},
   "cell_type": "markdown",
   "metadata": {},
   "source": [
    "#### Question 3: Use map to change each name to uppercase in the names list"
   ]
  },
  {
   "cell_type": "code",
   "execution_count": 6,
   "metadata": {},
   "outputs": [
    {
     "name": "stdout",
     "output_type": "stream",
     "text": [
      "['RUFAI', 'DANFULLO', 'SIPIKIN', 'NIASSE']\n"
     ]
    }
   ],
   "source": [
    "def change_to_upper(names):\n",
    "    return names.upper()\n",
    "\n",
    "names_upper_cased = map(change_to_upper, names)\n",
    "print(list(names_upper_cased)) "
   ]
  },
  {
   "attachments": {},
   "cell_type": "markdown",
   "metadata": {},
   "source": [
    "#### Question 4: Use filter to filter out countries containing 'ger'."
   ]
  },
  {
   "cell_type": "code",
   "execution_count": 8,
   "metadata": {},
   "outputs": [
    {
     "name": "stdout",
     "output_type": "stream",
     "text": [
      "['Nigeria', 'Niger']\n"
     ]
    }
   ],
   "source": [
    "def ger(string):\n",
    "    if 'ger' in string:\n",
    "        return True\n",
    "    return False\n",
    "ger = filter(ger, countries) \n",
    "print(list(ger))   "
   ]
  },
  {
   "attachments": {},
   "cell_type": "markdown",
   "metadata": {},
   "source": [
    "#### Question 5: Use filter to filter out countries having exactly five characters."
   ]
  },
  {
   "cell_type": "code",
   "execution_count": 10,
   "metadata": {},
   "outputs": [
    {
     "name": "stdout",
     "output_type": "stream",
     "text": [
      "['Niger', 'Ghana', 'Benin']\n"
     ]
    }
   ],
   "source": [
    "def five_char(string):\n",
    "    if len(string) == 5:\n",
    "        return True\n",
    "    return False\n",
    "five_char = filter(five_char, countries) \n",
    "print(list(five_char))  "
   ]
  },
  {
   "attachments": {},
   "cell_type": "markdown",
   "metadata": {},
   "source": [
    "#### Question 6: Use filter to filter out countries containing five letters and more in the country list."
   ]
  },
  {
   "cell_type": "code",
   "execution_count": 11,
   "metadata": {},
   "outputs": [
    {
     "name": "stdout",
     "output_type": "stream",
     "text": [
      "['Nigeria', 'Niger', 'Ghana', 'Benin', 'Senegal']\n"
     ]
    }
   ],
   "source": [
    "def five_or_more(string):\n",
    "    if len(string) >= 5:\n",
    "        return True\n",
    "    return False\n",
    "five_or_more = filter(five_or_more, countries) \n",
    "print(list(five_or_more))     "
   ]
  },
  {
   "attachments": {},
   "cell_type": "markdown",
   "metadata": {},
   "source": [
    "#### Question 7: Use filter to filter out countries starting with an 'N'"
   ]
  },
  {
   "cell_type": "code",
   "execution_count": 13,
   "metadata": {},
   "outputs": [
    {
     "name": "stdout",
     "output_type": "stream",
     "text": [
      "['Nigeria', 'Niger']\n"
     ]
    }
   ],
   "source": [
    "def E(string):\n",
    "    if string[0] == 'N':\n",
    "        return True\n",
    "    return False\n",
    "N= filter(E, countries) \n",
    "print(list(N))         "
   ]
  },
  {
   "attachments": {},
   "cell_type": "markdown",
   "metadata": {},
   "source": [
    "#### Question 8: Chain two or more list iterators (eg. arr.map(callback).filter(callback).reduce(callback))"
   ]
  },
  {
   "cell_type": "code",
   "execution_count": 14,
   "metadata": {},
   "outputs": [
    {
     "name": "stdout",
     "output_type": "stream",
     "text": [
      "['a', 'd', 'e', 'f', 'i', 'k', 'l', 'n', 'o', 'p', 'u']\n"
     ]
    }
   ],
   "source": [
    "from itertools import chain\n",
    "consonants = ['d', 'f', 'k', 'l', 'n', 'p']\n",
    "vowels = ['a', 'e', 'i', 'o', 'u']\n",
    "result = list(chain(consonants, vowels))\n",
    "result.sort()\n",
    "print(result)"
   ]
  },
  {
   "attachments": {},
   "cell_type": "markdown",
   "metadata": {},
   "source": [
    "#### Question 9: Declare a function called get_string_lists which takes a list as a parameter and then returns a list containing only string items."
   ]
  },
  {
   "cell_type": "code",
   "execution_count": 15,
   "metadata": {},
   "outputs": [],
   "source": [
    "def get_string_lists(arr):\n",
    "    list = []\n",
    "    strings = input(\"Please enter a list of strings \")\n",
    "    list = strings.split(\" \")\n",
    "    return list"
   ]
  },
  {
   "attachments": {},
   "cell_type": "markdown",
   "metadata": {},
   "source": [
    "#### Question 10: Use reduce to sum all the numbers in the numbers list."
   ]
  },
  {
   "cell_type": "code",
   "execution_count": 16,
   "metadata": {},
   "outputs": [
    {
     "name": "stdout",
     "output_type": "stream",
     "text": [
      "55\n"
     ]
    }
   ],
   "source": [
    "from functools import reduce\n",
    "numbers_str = ['1', '2', '3', '4', '5', '6', '7', '8', '9', '10']\n",
    "def add_two_nums (x, y):\n",
    "    return int(x) + int(y)\n",
    "total = reduce(add_two_nums, numbers_str)\n",
    "print(total)"
   ]
  },
  {
   "attachments": {},
   "cell_type": "markdown",
   "metadata": {},
   "source": [
    "#### Question 11: Use reduce to concatenate all the countries and to produce this sentence: Estonia, Finland, Sweden, Denmark, Norway, and Iceland are north European countries"
   ]
  },
  {
   "cell_type": "code",
   "execution_count": null,
   "metadata": {},
   "outputs": [],
   "source": []
  },
  {
   "attachments": {},
   "cell_type": "markdown",
   "metadata": {},
   "source": [
    "#### Question 12: Declare a function called categorize_countries that returns a list of countries with some common pattern (you can find the countries list in this repository as countries.js(eg 'land', 'ia', 'island', 'stan'))."
   ]
  },
  {
   "attachments": {},
   "cell_type": "markdown",
   "metadata": {},
   "source": [
    "#### Question 13: Create a function returning a dictionary, where keys stand for starting letters of countries and values are the number of country names starting with that letter."
   ]
  },
  {
   "attachments": {},
   "cell_type": "markdown",
   "metadata": {},
   "source": [
    "#### Question 14: Declare a get_first_ten_countries function - it returns a list of first ten countries from the countries.js list in the data folder."
   ]
  },
  {
   "attachments": {},
   "cell_type": "markdown",
   "metadata": {},
   "source": [
    "#### Question 15: Declare a get_last_ten_countries function that returns the last ten countries in the countries list."
   ]
  }
 ],
 "metadata": {
  "kernelspec": {
   "display_name": "arewads",
   "language": "python",
   "name": "python3"
  },
  "language_info": {
   "codemirror_mode": {
    "name": "ipython",
    "version": 3
   },
   "file_extension": ".py",
   "mimetype": "text/x-python",
   "name": "python",
   "nbconvert_exporter": "python",
   "pygments_lexer": "ipython3",
   "version": "3.10.9"
  },
  "orig_nbformat": 4
 },
 "nbformat": 4,
 "nbformat_minor": 2
}
