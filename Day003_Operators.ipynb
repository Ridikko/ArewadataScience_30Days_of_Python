{
 "cells": [
  {
   "attachments": {},
   "cell_type": "markdown",
   "metadata": {},
   "source": [
    "## DAY 3"
   ]
  },
  {
   "attachments": {},
   "cell_type": "markdown",
   "metadata": {},
   "source": [
    "#### Question 1: Declare your age as integer variable"
   ]
  },
  {
   "cell_type": "code",
   "execution_count": 1,
   "metadata": {},
   "outputs": [],
   "source": [
    "age = 28"
   ]
  },
  {
   "attachments": {},
   "cell_type": "markdown",
   "metadata": {},
   "source": [
    "#### Question 2: Declare your height as a float variable"
   ]
  },
  {
   "cell_type": "code",
   "execution_count": 2,
   "metadata": {},
   "outputs": [],
   "source": [
    "height = float(165)"
   ]
  },
  {
   "attachments": {},
   "cell_type": "markdown",
   "metadata": {},
   "source": [
    "#### Question 3: Declare a variable that store a complex number"
   ]
  },
  {
   "cell_type": "code",
   "execution_count": null,
   "metadata": {},
   "outputs": [],
   "source": [
    "Complex_number = complex(5, 9)"
   ]
  },
  {
   "attachments": {},
   "cell_type": "markdown",
   "metadata": {},
   "source": [
    "#### Question 4: Write a script that prompts the user to enter base and height of the triangle and calculate an area of this triangle (area = 0.5 x b x h).\n",
    "    Enter base: 20\n",
    "    Enter height: 10\n",
    "    The area of the triangle is 100"
   ]
  },
  {
   "cell_type": "code",
   "execution_count": 3,
   "metadata": {},
   "outputs": [
    {
     "name": "stdout",
     "output_type": "stream",
     "text": [
      "area of triangle : 100.0\n"
     ]
    }
   ],
   "source": [
    "base = 10\n",
    "height = 20\n",
    "area_of_triangle = 0.5 * base * height\n",
    "print('area of triangle :', area_of_triangle)"
   ]
  },
  {
   "attachments": {},
   "cell_type": "markdown",
   "metadata": {},
   "source": [
    "#### Question 5: Write a script that prompts the user to enter side a, side b, and side c of the triangle. Calculate the perimeter of the triangle (perimeter = a + b + c).\n",
    "Enter side a: 5;\n",
    "Enter side b: 4;\n",
    "Enter side c: 3;\n",
    "The perimeter of the triangle is 12."
   ]
  },
  {
   "cell_type": "code",
   "execution_count": 4,
   "metadata": {},
   "outputs": [
    {
     "name": "stdout",
     "output_type": "stream",
     "text": [
      "perimeter of a triangle: 12\n"
     ]
    }
   ],
   "source": [
    "a = 5\n",
    "b = 4\n",
    "c = 3\n",
    "perimeter_of_triangle = a + b + c\n",
    "print('perimeter of a triangle:', perimeter_of_triangle)"
   ]
  },
  {
   "attachments": {},
   "cell_type": "markdown",
   "metadata": {},
   "source": [
    "#### Question 6: Get length and width of a rectangle using prompt. Calculate its area (area = length x width) and perimeter (perimeter = 2 x (length + width))"
   ]
  },
  {
   "cell_type": "code",
   "execution_count": 3,
   "metadata": {},
   "outputs": [
    {
     "name": "stdout",
     "output_type": "stream",
     "text": [
      "area: 1309\n",
      "perimeter: 188\n"
     ]
    }
   ],
   "source": [
    "length=int( input ('Enter length:'))\n",
    "width= int(input ('Enter width:'))\n",
    "print('area:', length * width)\n",
    "print('perimeter:', 2 * (length + width))"
   ]
  },
  {
   "attachments": {},
   "cell_type": "markdown",
   "metadata": {},
   "source": [
    "#### Question 7: Get radius of a circle using prompt. Calculate the area (area = pi x r x r) and circumference (c = 2 x pi x r) where pi = 3.14."
   ]
  },
  {
   "cell_type": "code",
   "execution_count": 2,
   "metadata": {},
   "outputs": [
    {
     "name": "stdout",
     "output_type": "stream",
     "text": [
      "area:  18617.06\n",
      "circumference 483.56\n"
     ]
    }
   ],
   "source": [
    "radius = int(input(' Enter radius:' ))\n",
    "print ('area: ', 3.14 * radius * radius)\n",
    "print('circumference', 2 * 3.14 * radius)"
   ]
  },
  {
   "attachments": {},
   "cell_type": "markdown",
   "metadata": {},
   "source": [
    "#### Question 8: Calculate the slope, x-intercept and y-intercept of y = 2x -2"
   ]
  },
  {
   "cell_type": "code",
   "execution_count": 1,
   "metadata": {},
   "outputs": [
    {
     "name": "stdout",
     "output_type": "stream",
     "text": [
      "x intercept:  1\n",
      "y intercept:  -2\n",
      "slope:  2\n"
     ]
    }
   ],
   "source": [
    "# y = 2x-2\n",
    "print(\"x intercept: \", 1)\n",
    "print(\"y intercept: \", -2)\n",
    "print(\"slope: \", 2)"
   ]
  },
  {
   "attachments": {},
   "cell_type": "markdown",
   "metadata": {},
   "source": [
    "#### Question 9: Slope is (m = y2-y1/x2-x1). Find the slope and Euclidean distance between point (2, 2) and point (6,10)"
   ]
  },
  {
   "cell_type": "code",
   "execution_count": 4,
   "metadata": {},
   "outputs": [
    {
     "name": "stdout",
     "output_type": "stream",
     "text": [
      "distance: \n",
      "8.94427190999916\n",
      "slope:\n",
      "2.0\n"
     ]
    }
   ],
   "source": [
    "# M = Y2-Y1 / X2-X1\n",
    "#Points/values is (2,2) and (6,10)\n",
    "X1 = 2 \n",
    "X2 = 6\n",
    "Y1 = 2\n",
    "Y2 = 10\n",
    "print('distance: ')\n",
    "print((((X1 - X2) ** 2 + (Y1 - Y2 ) ** 2)  ** 0.5))\n",
    "print('slope:')\n",
    "print((Y2 - Y1) / (X2 - X1))"
   ]
  },
  {
   "attachments": {},
   "cell_type": "markdown",
   "metadata": {},
   "source": [
    "#### Question 10: Compare the slopes in tasks 8 and 9."
   ]
  },
  {
   "cell_type": "code",
   "execution_count": 5,
   "metadata": {},
   "outputs": [
    {
     "name": "stdout",
     "output_type": "stream",
     "text": [
      "2.0\n"
     ]
    }
   ],
   "source": [
    "print(2 if 2 < (Y2 - Y1) / (X2 - X1) else (Y2 - Y1 ) / (X2 - X1))"
   ]
  },
  {
   "attachments": {},
   "cell_type": "markdown",
   "metadata": {},
   "source": [
    "#### Question 11: Calculate the value of y (y = x^2 + 6x + 9). Try to use different x values and figure out at what x value y is going to be 0."
   ]
  },
  {
   "cell_type": "code",
   "execution_count": 6,
   "metadata": {},
   "outputs": [
    {
     "name": "stdout",
     "output_type": "stream",
     "text": [
      "9\n",
      "3 -3 is where y is 0\n",
      "16\n",
      "3 -3 is where y is 0\n",
      "25\n",
      "3 -3 is where y is 0\n",
      "36\n",
      "3 -3 is where y is 0\n",
      "49\n",
      "3 -3 is where y is 0\n",
      "64\n",
      "3 -3 is where y is 0\n",
      "81\n",
      "3 -3 is where y is 0\n",
      "100\n",
      "3 -3 is where y is 0\n",
      "121\n",
      "3 -3 is where y is 0\n",
      "144\n",
      "3 -3 is where y is 0\n"
     ]
    }
   ],
   "source": [
    "for x in range(0 , 10):\n",
    "    print(x ** 2 + 6 * x + 9)\n",
    "    print(3, -3, \"is where y is 0\")"
   ]
  },
  {
   "attachments": {},
   "cell_type": "markdown",
   "metadata": {},
   "source": [
    "#### Question 12: Find the length of 'python' and 'dragon' and make a falsy comparison statement."
   ]
  },
  {
   "cell_type": "code",
   "execution_count": 7,
   "metadata": {},
   "outputs": [
    {
     "name": "stdout",
     "output_type": "stream",
     "text": [
      "False\n"
     ]
    }
   ],
   "source": [
    "print(not len('python') == len('dragon'))"
   ]
  },
  {
   "attachments": {},
   "cell_type": "markdown",
   "metadata": {},
   "source": [
    "#### Question 13: Use and operator to check if 'on' is found in both 'python' and 'dragon'"
   ]
  },
  {
   "cell_type": "code",
   "execution_count": 8,
   "metadata": {},
   "outputs": [
    {
     "name": "stdout",
     "output_type": "stream",
     "text": [
      "True\n"
     ]
    }
   ],
   "source": [
    "print('on' in 'python' and 'on' in 'dragon')"
   ]
  },
  {
   "attachments": {},
   "cell_type": "markdown",
   "metadata": {},
   "source": [
    "#### Question 14: I hope this course is not full of jargon. Use in operator to check if jargon is in the sentence."
   ]
  },
  {
   "cell_type": "code",
   "execution_count": 9,
   "metadata": {},
   "outputs": [
    {
     "name": "stdout",
     "output_type": "stream",
     "text": [
      "True\n"
     ]
    }
   ],
   "source": [
    "print('jargon' in \"i hope this course is not full of jargon\")"
   ]
  },
  {
   "attachments": {},
   "cell_type": "markdown",
   "metadata": {},
   "source": [
    "#### Question 15: There is no 'on' in both dragon and python"
   ]
  },
  {
   "cell_type": "code",
   "execution_count": 10,
   "metadata": {},
   "outputs": [
    {
     "name": "stdout",
     "output_type": "stream",
     "text": [
      "False\n"
     ]
    }
   ],
   "source": [
    "print('on' not in 'python' and 'on' in 'dragon')"
   ]
  },
  {
   "attachments": {},
   "cell_type": "markdown",
   "metadata": {},
   "source": [
    "#### Question 16: Find the length of the text python and convert the value to float and convert it to string"
   ]
  },
  {
   "cell_type": "code",
   "execution_count": 11,
   "metadata": {},
   "outputs": [
    {
     "name": "stdout",
     "output_type": "stream",
     "text": [
      "6.0\n"
     ]
    }
   ],
   "source": [
    "print(str(float(len('python'))))"
   ]
  },
  {
   "attachments": {},
   "cell_type": "markdown",
   "metadata": {},
   "source": [
    "#### Question 17: Even numbers are divisible by 2 and the remainder is zero. How do you check if a number is even or not using python?"
   ]
  },
  {
   "cell_type": "code",
   "execution_count": 12,
   "metadata": {},
   "outputs": [
    {
     "name": "stdout",
     "output_type": "stream",
     "text": [
      "odd\n"
     ]
    }
   ],
   "source": [
    "number = int(input('Enter number:'))\n",
    "print(\"Even \" if number % 2 == 0 else \"odd\")"
   ]
  },
  {
   "attachments": {},
   "cell_type": "markdown",
   "metadata": {},
   "source": [
    "#### Question 18: Check if the floor division of 7 by 3 is equal to the int converted value of 2.7."
   ]
  },
  {
   "cell_type": "code",
   "execution_count": 13,
   "metadata": {},
   "outputs": [
    {
     "name": "stdout",
     "output_type": "stream",
     "text": [
      "Even \n"
     ]
    }
   ],
   "source": [
    "number = int(input('Enter number:'))\n",
    "print(\"Even \" if number % 2 == 0 else \"odd\")"
   ]
  },
  {
   "attachments": {},
   "cell_type": "markdown",
   "metadata": {},
   "source": [
    "#### Question 19: Check if type of '10' is equal to type of 10"
   ]
  },
  {
   "cell_type": "code",
   "execution_count": 14,
   "metadata": {},
   "outputs": [
    {
     "name": "stdout",
     "output_type": "stream",
     "text": [
      "False\n"
     ]
    }
   ],
   "source": [
    "print(type('10') == type(10))"
   ]
  },
  {
   "attachments": {},
   "cell_type": "markdown",
   "metadata": {},
   "source": [
    "#### Question 20: Check if int('9.8') is equal to 10"
   ]
  },
  {
   "cell_type": "code",
   "execution_count": 16,
   "metadata": {},
   "outputs": [
    {
     "name": "stdout",
     "output_type": "stream",
     "text": [
      "False\n"
     ]
    }
   ],
   "source": [
    "print(int('77') == 10)"
   ]
  },
  {
   "attachments": {},
   "cell_type": "markdown",
   "metadata": {},
   "source": [
    "#### Question 21: Write a script that prompts the user to enter hours and rate per hour. Calculate pay of the person?\n",
    "Enter hours: 40;\n",
    "Enter rate per hour: 28;\n",
    "Your weekly earning is 1120."
   ]
  },
  {
   "cell_type": "code",
   "execution_count": 17,
   "metadata": {},
   "outputs": [
    {
     "name": "stdout",
     "output_type": "stream",
     "text": [
      "weekly Earning: 1120\n"
     ]
    }
   ],
   "source": [
    "hours = int(input('Enter hours:'))\n",
    "rph = int(input('Enter rate per hour:'))\n",
    "print(\"weekly Earning:\", hours * rph)"
   ]
  },
  {
   "attachments": {},
   "cell_type": "markdown",
   "metadata": {},
   "source": [
    "#### Question 22: Write a script that prompts the user to enter number of years. Calculate the number of seconds a person can live. Assume a person can live hundred years\n",
    "Enter number of years you have lived: 100;\n",
    "You have lived for 3153600000 seconds."
   ]
  },
  {
   "cell_type": "code",
   "execution_count": 18,
   "metadata": {},
   "outputs": [
    {
     "name": "stdout",
     "output_type": "stream",
     "text": [
      "189216000000\n"
     ]
    }
   ],
   "source": [
    "years = int(input('Enter years:'))\n",
    "print(years * 365 * 24 * 60 * 60 * 60)"
   ]
  },
  {
   "attachments": {},
   "cell_type": "markdown",
   "metadata": {},
   "source": [
    "#### Question 23: Write a Python script that displays the following table\n",
    "1 1 1 1 1;\n",
    "2 1 2 4 8;\n",
    "3 1 3 9 27;\n",
    "4 1 4 16 64;\n",
    "5 1 5 25 125;"
   ]
  },
  {
   "cell_type": "code",
   "execution_count": 19,
   "metadata": {},
   "outputs": [
    {
     "name": "stdout",
     "output_type": "stream",
     "text": [
      "1 1 1 1\n",
      "1 2 4 8\n",
      "1 3 9 27\n",
      "1 4 16 64\n",
      "1 5 25 125\n"
     ]
    }
   ],
   "source": [
    "for i in range(1, 6):\n",
    "    print(i ** 0, i ** 1, i ** 2, i ** 3)"
   ]
  }
 ],
 "metadata": {
  "kernelspec": {
   "display_name": "arewads",
   "language": "python",
   "name": "python3"
  },
  "language_info": {
   "codemirror_mode": {
    "name": "ipython",
    "version": 3
   },
   "file_extension": ".py",
   "mimetype": "text/x-python",
   "name": "python",
   "nbconvert_exporter": "python",
   "pygments_lexer": "ipython3",
   "version": "3.10.9"
  },
  "orig_nbformat": 4,
  "vscode": {
   "interpreter": {
    "hash": "5f70357f8ed03854c30a30b7c8ee64e9bef4e6ec8377016a67c99401855002f0"
   }
  }
 },
 "nbformat": 4,
 "nbformat_minor": 2
}
