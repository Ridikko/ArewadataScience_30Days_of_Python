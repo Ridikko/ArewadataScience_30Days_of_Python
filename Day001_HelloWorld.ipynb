{
 "cells": [
  {
   "attachments": {},
   "cell_type": "markdown",
   "metadata": {},
   "source": [
    "# DAY 1"
   ]
  },
  {
   "attachments": {},
   "cell_type": "markdown",
   "metadata": {},
   "source": [
    "### Exercise: Level 1 "
   ]
  },
  {
   "attachments": {},
   "cell_type": "markdown",
   "metadata": {},
   "source": [
    "#### Question 2: Open the python interactive shell and do the following operations. The operands are 3 and 4.\n",
    "addition(+);\n",
    "subtraction(-);\n",
    "multiplication(*);\n",
    "modulus(%);\n",
    "division(/);\n",
    "exponential(**);\n",
    "floor division operator(//);"
   ]
  },
  {
   "cell_type": "code",
   "execution_count": 1,
   "metadata": {},
   "outputs": [
    {
     "name": "stdout",
     "output_type": "stream",
     "text": [
      "7\n",
      "-1\n",
      "12\n",
      "0.75\n",
      "81\n",
      "3\n",
      "0\n"
     ]
    }
   ],
   "source": [
    "print(3+4)\n",
    "print(3-4)\n",
    "print(3*4)\n",
    "print(3/4)\n",
    "print(3**4)\n",
    "print(3%4)\n",
    "print(3//4)"
   ]
  },
  {
   "attachments": {},
   "cell_type": "markdown",
   "metadata": {},
   "source": [
    "#### Question 3: Write strings on the python interactive shell. The strings are the following:\n",
    "Your name;\n",
    "Your family name;\n",
    "Your country;\n",
    "I am enjoying 30 days of python."
   ]
  },
  {
   "cell_type": "code",
   "execution_count": 1,
   "metadata": {},
   "outputs": [
    {
     "name": "stdout",
     "output_type": "stream",
     "text": [
      "Rufai\n",
      "Dikko\n",
      "Nigeria\n",
      "I am enjoying 30 days of python\n"
     ]
    }
   ],
   "source": [
    "print('Rufai')\n",
    "print('Dikko')\n",
    "print('Nigeria')\n",
    "print('I am enjoying 30 days of python')"
   ]
  },
  {
   "attachments": {},
   "cell_type": "markdown",
   "metadata": {},
   "source": [
    "#### Question 4: Check the data types of the following data:\n",
    "10;\n",
    "9.8;\n",
    "3.14;\n",
    "4 - 4j;\n",
    "['Asabeneh', 'Python', 'Finland'];\n",
    "Your name;\n",
    "Your family name;\n",
    "Your country;"
   ]
  },
  {
   "cell_type": "code",
   "execution_count": 2,
   "metadata": {},
   "outputs": [
    {
     "name": "stdout",
     "output_type": "stream",
     "text": [
      "<class 'int'>\n",
      "<class 'float'>\n",
      "<class 'float'>\n",
      "<class 'complex'>\n",
      "<class 'list'>\n",
      "<class 'str'>\n",
      "<class 'str'>\n"
     ]
    }
   ],
   "source": [
    "print(type(10))\n",
    "print(type(9.8))\n",
    "print(type(3.14))\n",
    "print(type(4-4j))\n",
    "print(type(['Asabeneh', 'Python', 'Finland']))\n",
    "print(type('Rufai'))\n",
    "print(type('Nigeria'))"
   ]
  },
  {
   "attachments": {},
   "cell_type": "markdown",
   "metadata": {},
   "source": [
    "### Exercise: Level 3"
   ]
  },
  {
   "attachments": {},
   "cell_type": "markdown",
   "metadata": {},
   "source": [
    "#### Question 1: Write an example for different Python data types such as Number(Integer, Float, Complex), String, Boolean, List, Tuple, Set and Dictionary."
   ]
  },
  {
   "cell_type": "code",
   "execution_count": 6,
   "metadata": {},
   "outputs": [
    {
     "name": "stdout",
     "output_type": "stream",
     "text": [
      "<class 'int'>\n",
      "<class 'float'>\n",
      "<class 'complex'>\n",
      "<class 'str'>\n",
      "<class 'list'>\n",
      "<class 'dict'>\n",
      "<class 'set'>\n",
      "<class 'tuple'>\n",
      "<class 'bool'>\n"
     ]
    }
   ],
   "source": [
    "print(type(7))\n",
    "print(type(77.7))\n",
    "print(type(7j- 5))\n",
    "print(type('Nasiru'))\n",
    "print(type(['Ram', 'Plastic', 'Concrete']))\n",
    "print(type({'First_name': 'Rufai'}))\n",
    "print(type({9, 7, 4, 8, 7}))\n",
    "print(type((\"curry\", \"spices\", \"garlic\")))\n",
    "print(type(True))"
   ]
  },
  {
   "attachments": {},
   "cell_type": "markdown",
   "metadata": {},
   "source": [
    "#### Question 2: Find an Euclidian distance between (2, 3) and (10, 8)"
   ]
  },
  {
   "cell_type": "code",
   "execution_count": 4,
   "metadata": {},
   "outputs": [
    {
     "name": "stdout",
     "output_type": "stream",
     "text": [
      "4620.5\n"
     ]
    }
   ],
   "source": [
    "print((((3 ** 2 - 2**2)**2) + ((10 ** 2 - 2**2)**2)) ** 1/2)"
   ]
  }
 ],
 "metadata": {
  "kernelspec": {
   "display_name": "arewads",
   "language": "python",
   "name": "python3"
  },
  "language_info": {
   "codemirror_mode": {
    "name": "ipython",
    "version": 3
   },
   "file_extension": ".py",
   "mimetype": "text/x-python",
   "name": "python",
   "nbconvert_exporter": "python",
   "pygments_lexer": "ipython3",
   "version": "3.10.9"
  },
  "orig_nbformat": 4,
  "vscode": {
   "interpreter": {
    "hash": "5f70357f8ed03854c30a30b7c8ee64e9bef4e6ec8377016a67c99401855002f0"
   }
  }
 },
 "nbformat": 4,
 "nbformat_minor": 2
}
