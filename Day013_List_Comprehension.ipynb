{
 "cells": [
  {
   "attachments": {},
   "cell_type": "markdown",
   "metadata": {},
   "source": [
    "## DAY 13"
   ]
  },
  {
   "attachments": {},
   "cell_type": "markdown",
   "metadata": {},
   "source": [
    "#### Question 1: Filter only negative and zero in the list using list comprehension\n",
    "\n",
    "numbers = [-4, -3, -2, -1, 0, 2, 4, 6]"
   ]
  },
  {
   "cell_type": "code",
   "execution_count": 1,
   "metadata": {},
   "outputs": [
    {
     "name": "stdout",
     "output_type": "stream",
     "text": [
      "[-4, -3, -2, -1, 0]\n"
     ]
    }
   ],
   "source": [
    "def filter_list():\n",
    "    numbers = [-4, -3, -2, -1, 0, 2, 4, 6]\n",
    "    return [x for x in numbers if x <= 0]\n",
    "print(filter_list())   "
   ]
  },
  {
   "attachments": {},
   "cell_type": "markdown",
   "metadata": {},
   "source": [
    "#### Question 2: Flatten the following list of lists of lists to a one dimensional list :\n",
    "\n",
    "list_of_lists =[[[1, 2, 3]], [[4, 5, 6]], [[7, 8, 9]]]\n",
    "\n",
    "output\n",
    "[1, 2, 3, 4, 5, 6, 7, 8, 9]"
   ]
  },
  {
   "cell_type": "code",
   "execution_count": 2,
   "metadata": {},
   "outputs": [
    {
     "name": "stdout",
     "output_type": "stream",
     "text": [
      "[1, 2, 3, 4, 5, 6, 7, 8, 9]\n"
     ]
    }
   ],
   "source": [
    "def flatten_list():\n",
    "    list_of_lists = [[[1, 2, 3]], [[4, 5, 6]], [[7, 8, 9]]]\n",
    "    return [x for sub in list_of_lists for sub2 in sub for x in sub2]\n",
    "print(flatten_list())"
   ]
  },
  {
   "attachments": {},
   "cell_type": "markdown",
   "metadata": {},
   "source": [
    "#### Question 3: Using list comprehension create the following list of tuples:\n",
    "\n",
    "[(0, 1, 0, 0, 0, 0, 0),\n",
    "(1, 1, 1, 1, 1, 1, 1),\n",
    "(2, 1, 2, 4, 8, 16, 32),\n",
    "(3, 1, 3, 9, 27, 81, 243),\n",
    "(4, 1, 4, 16, 64, 256, 1024),\n",
    "(5, 1, 5, 25, 125, 625, 3125),\n",
    "(6, 1, 6, 36, 216, 1296, 7776),\n",
    "(7, 1, 7, 49, 343, 2401, 16807),\n",
    "(8, 1, 8, 64, 512, 4096, 32768),\n",
    "(9, 1, 9, 81, 729, 6561, 59049),\n",
    "(10, 1, 10, 100, 1000, 10000, 100000)]"
   ]
  },
  {
   "cell_type": "code",
   "execution_count": 3,
   "metadata": {},
   "outputs": [
    {
     "name": "stdout",
     "output_type": "stream",
     "text": [
      "[(0, 1, 0, 0, 0, 0, 0), (1, 1, 1, 1, 1, 1, 1), (2, 1, 2, 4, 8, 16, 32), (3, 1, 3, 9, 27, 81, 243), (4, 1, 4, 16, 64, 256, 1024), (5, 1, 5, 25, 125, 625, 3125), (6, 1, 6, 36, 216, 1296, 7776), (7, 1, 7, 49, 343, 2401, 16807), (8, 1, 8, 64, 512, 4096, 32768), (9, 1, 9, 81, 729, 6561, 59049), (10, 1, 10, 100, 1000, 10000, 100000)]\n"
     ]
    }
   ],
   "source": [
    "def generate_list_of_tuples():\n",
    "    list_of_tuples = []\n",
    "    for i in range(11):\n",
    "        list_of_tuples.append((i, i ** 0, i ** 1, i ** 2, i ** 3, i ** 4, i ** 5))\n",
    "    return list_of_tuples\n",
    "print(generate_list_of_tuples())"
   ]
  },
  {
   "attachments": {},
   "cell_type": "markdown",
   "metadata": {},
   "source": [
    "#### Question 4: Flatten the following list to a new list:\n",
    "\n",
    "countries = [[('Nigeria', 'Abuja')], [('Niger', 'Niamey')], [('Ghana', 'Accra')]]\n",
    "output:\n",
    "[['NIGERIA','NIG', 'ABUJA'], ['NIGER', 'NIG', 'NIAMEY'], ['GHANA', 'GHA', 'ACCRA']]"
   ]
  },
  {
   "cell_type": "code",
   "execution_count": 6,
   "metadata": {},
   "outputs": [
    {
     "name": "stdout",
     "output_type": "stream",
     "text": [
      "[['NIGERIA', 'NIG', 'ABUJA'], ['NIGER', 'NIG', 'NIAMEY'], ['GHANA', 'GHA', 'ACCRA']]\n"
     ]
    }
   ],
   "source": [
    "def flatten_list_of_tuples():\n",
    "    countries = [[('Nigeria', 'Abuja')], [('Niger', 'Niamey')], [('Ghana', 'Accra')]]\n",
    "    return [[sub2[0].upper(), sub2[0].upper()[:3], sub2[1].upper()] for sub in countries for sub2 in sub]\n",
    "print(flatten_list_of_tuples())"
   ]
  },
  {
   "attachments": {},
   "cell_type": "markdown",
   "metadata": {},
   "source": [
    "#### Question 5: Change the following list to a list of dictionaries:\n",
    "\n",
    "countries = [[('Nigeria', 'Abuja')], [('Niger', 'Niamey')], [('Ghana', 'Accra')]]\n",
    "output:\n",
    "[{'country': 'NIGERIA', 'city': 'ABUJA'},\n",
    "{'country': 'NIGER', 'city': 'NIAMEY'},\n",
    "{'country': 'GHANA', 'city': 'ACCRA'}]"
   ]
  },
  {
   "cell_type": "code",
   "execution_count": 7,
   "metadata": {},
   "outputs": [
    {
     "name": "stdout",
     "output_type": "stream",
     "text": [
      "[{'country': 'NIGERIA', 'city': 'ABUJA'}, {'country': 'NIGER', 'city': 'NIAMEY'}, {'country': 'GHANA', 'city': 'ACCRA'}]\n"
     ]
    }
   ],
   "source": [
    "def list_to_list_dict():\n",
    "    countries = [[('Nigeria', 'Abuja')], [('Niger', 'Niamey')], [('Ghana', 'Accra')]]\n",
    "    countries = [[sub2[0].upper(), sub2[1].upper()] for sub in countries for sub2 in sub]\n",
    "    countries = [x for sub in countries for x in sub]\n",
    "    keys = [\"country\", \"city\"]\n",
    "    return [{keys[0]: countries[idx], keys[1]: countries[idx + 1]} for idx in range(0, len(countries), 2)]\n",
    "print(list_to_list_dict())"
   ]
  },
  {
   "attachments": {},
   "cell_type": "markdown",
   "metadata": {},
   "source": [
    "#### Question 6: Change the following list of lists to a list of concatenated strings:\n",
    "\n",
    "names = [[('Rufai', 'Dikko')], [('Ummi', 'Dikko')], [('Nasir', 'Dikko')], [('Asmau', 'Dikko')]]\n",
    "output\n",
    "['Rufai Dikko', 'Ummi Dikko', 'Nasir Dikko', 'Asmau Dikko']"
   ]
  },
  {
   "cell_type": "code",
   "execution_count": 9,
   "metadata": {},
   "outputs": [
    {
     "name": "stdout",
     "output_type": "stream",
     "text": [
      "['Rufai Dikko', 'Ummi Dikko', 'Nasir Dikko', 'Asmau Dikko']\n"
     ]
    }
   ],
   "source": [
    "def concatenate_list():\n",
    "    names = [[('Rufai', 'Dikko')], [('Ummi', 'Dikko')], [('Nasir', 'Dikko')], [('Asmau', 'Dikko')]]\n",
    "    conc = [x for sub in names for sub2 in sub for x in sub2]\n",
    "    return [conc[i] + ' ' + conc[i + 1] for i in range(0, len(conc), 2)]\n",
    "print(concatenate_list())"
   ]
  },
  {
   "attachments": {},
   "cell_type": "markdown",
   "metadata": {},
   "source": [
    "#### Question 7: Write a lambda function which can solve a slope or y-intercept of linear functions."
   ]
  },
  {
   "cell_type": "code",
   "execution_count": 8,
   "metadata": {},
   "outputs": [],
   "source": [
    "slope = lambda x1, y1, x2, y2: (y2 - y1) / (x2 - x1)\n",
    "y_intercept = lambda x1, y1, x2, y2: y1 - slope(x1, y1, x2, y2) * x1"
   ]
  }
 ],
 "metadata": {
  "kernelspec": {
   "display_name": "arewads",
   "language": "python",
   "name": "python3"
  },
  "language_info": {
   "codemirror_mode": {
    "name": "ipython",
    "version": 3
   },
   "file_extension": ".py",
   "mimetype": "text/x-python",
   "name": "python",
   "nbconvert_exporter": "python",
   "pygments_lexer": "ipython3",
   "version": "3.10.9"
  },
  "orig_nbformat": 4
 },
 "nbformat": 4,
 "nbformat_minor": 2
}
