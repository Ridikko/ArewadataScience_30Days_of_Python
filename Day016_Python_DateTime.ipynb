{
 "cells": [
  {
   "attachments": {},
   "cell_type": "markdown",
   "metadata": {},
   "source": [
    "## DAY 16"
   ]
  },
  {
   "attachments": {},
   "cell_type": "markdown",
   "metadata": {},
   "source": [
    "#### Question 1: Get the current day, month, year, hour, minute and timestamp from datetime module"
   ]
  },
  {
   "cell_type": "code",
   "execution_count": 1,
   "metadata": {},
   "outputs": [
    {
     "name": "stdout",
     "output_type": "stream",
     "text": [
      "2023-03-04 14:11:17.690046\n",
      "2023-03-04 14:11:17.690046\n",
      "4 3 2023 14 11\n",
      "timestamp 1677935477.690046\n",
      "4/3/2023, 14:11\n",
      "4/3/2023, 14:11\n"
     ]
    }
   ],
   "source": [
    "from datetime import datetime\n",
    "from datetime import date\n",
    "\n",
    "now = datetime.now()\n",
    "print(now)                      \n",
    "day = now.day                   \n",
    "month = now.month               \n",
    "year = now.year                 \n",
    "hour = now.hour                 \n",
    "print(now)                      \n",
    "day = now.day                   \n",
    "month = now.month               \n",
    "year = now.year                 \n",
    "hour = now.hour                 \n",
    "minute = now.minute             \n",
    "second = now.second\n",
    "timestamp = now.timestamp()\n",
    "print(day, month, year, hour, minute)\n",
    "print('timestamp', timestamp)\n",
    "print(f'{day}/{month}/{year}, {hour}:{minute}')  \n",
    "print(f'{day}/{month}/{year}, {hour}:{minute}')  "
   ]
  },
  {
   "attachments": {},
   "cell_type": "markdown",
   "metadata": {},
   "source": [
    "#### Question 2: Format the current date using this format: (\"%m/%d/%Y, %H:%M:%S\")"
   ]
  },
  {
   "cell_type": "code",
   "execution_count": 7,
   "metadata": {},
   "outputs": [
    {
     "name": "stdout",
     "output_type": "stream",
     "text": [
      "03/04/2023, 14:11:17\n"
     ]
    }
   ],
   "source": [
    "today = now.strftime(\"%m/%d/%Y, %H:%M:%S\")\n",
    "print(today)"
   ]
  },
  {
   "attachments": {},
   "cell_type": "markdown",
   "metadata": {},
   "source": [
    "#### Question 3: Today is 4 March, 2023. Change this time string to time."
   ]
  },
  {
   "cell_type": "code",
   "execution_count": 4,
   "metadata": {},
   "outputs": [
    {
     "name": "stdout",
     "output_type": "stream",
     "text": [
      "date_string = 4 March, 2023\n",
      "date_object = 2023-03-04 00:00:00\n"
     ]
    }
   ],
   "source": [
    "date_string = \"4 March, 2023\"\n",
    "print(\"date_string =\", date_string)\n",
    "date_object = datetime.strptime(date_string, \"%d %B, %Y\")\n",
    "print(\"date_object =\", date_object)"
   ]
  },
  {
   "attachments": {},
   "cell_type": "markdown",
   "metadata": {},
   "source": [
    "#### Question 4: Calculate the time difference between now and new year."
   ]
  },
  {
   "cell_type": "code",
   "execution_count": 6,
   "metadata": {},
   "outputs": [
    {
     "name": "stdout",
     "output_type": "stream",
     "text": [
      "Time to new year is 315 days, 0:00:00 \n"
     ]
    }
   ],
   "source": [
    "today = date(2023,2,20)\n",
    "new_year = date(2024,1,1)\n",
    "time_to_new_year = new_year - today\n",
    "print(f'Time to new year is {time_to_new_year} ')"
   ]
  },
  {
   "attachments": {},
   "cell_type": "markdown",
   "metadata": {},
   "source": [
    "#### Question 5: Calculate the time difference between 1 January 1970 and now."
   ]
  },
  {
   "cell_type": "code",
   "execution_count": 8,
   "metadata": {},
   "outputs": [
    {
     "name": "stdout",
     "output_type": "stream",
     "text": [
      "Difference: 19408 days, 0:05:00.518000\n",
      "Days: 19408\n",
      "Microseconds: 518000\n",
      "Seconds: 300\n"
     ]
    }
   ],
   "source": [
    "from datetime import timedelta\n",
    "import datetime\n",
    "datetimeFormat = '%Y-%m-%d %H:%M:%S.%f'\n",
    "date1 = '2023-02-20 10:01:28.585'\n",
    "date2 = '1970-01-01 09:56:28.067'\n",
    "diff = datetime.datetime.strptime(date1, datetimeFormat)\\\n",
    "    - datetime.datetime.strptime(date2, datetimeFormat)\n",
    " \n",
    "print(\"Difference:\", diff)\n",
    "print(\"Days:\", diff.days)\n",
    "print(\"Microseconds:\", diff.microseconds)\n",
    "print(\"Seconds:\", diff.seconds)"
   ]
  },
  {
   "attachments": {},
   "cell_type": "markdown",
   "metadata": {},
   "source": [
    "#### Question 6: Think, what can you use the datetime module for? Examples:\n",
    "###### Time series analysis\n",
    "###### To get a timestamp of any activities in an application\n",
    "###### Adding posts on a blog"
   ]
  }
 ],
 "metadata": {
  "kernelspec": {
   "display_name": "arewads",
   "language": "python",
   "name": "python3"
  },
  "language_info": {
   "codemirror_mode": {
    "name": "ipython",
    "version": 3
   },
   "file_extension": ".py",
   "mimetype": "text/x-python",
   "name": "python",
   "nbconvert_exporter": "python",
   "pygments_lexer": "ipython3",
   "version": "3.10.9"
  },
  "orig_nbformat": 4
 },
 "nbformat": 4,
 "nbformat_minor": 2
}
