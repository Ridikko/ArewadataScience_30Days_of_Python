{
 "cells": [
  {
   "attachments": {},
   "cell_type": "markdown",
   "metadata": {},
   "source": [
    "## DAY 8"
   ]
  },
  {
   "attachments": {},
   "cell_type": "markdown",
   "metadata": {},
   "source": [
    "#### Question 1: Create an empty dictionary called Ram"
   ]
  },
  {
   "cell_type": "code",
   "execution_count": 2,
   "metadata": {},
   "outputs": [],
   "source": [
    "Cock = dict()"
   ]
  },
  {
   "attachments": {},
   "cell_type": "markdown",
   "metadata": {},
   "source": [
    "#### Question 2: Add name, color, breed, legs, age to the Ram dictionary"
   ]
  },
  {
   "cell_type": "code",
   "execution_count": 3,
   "metadata": {},
   "outputs": [
    {
     "name": "stdout",
     "output_type": "stream",
     "text": [
      "{'name': 'Afto', 'color': 'Red', 'breed': 'Merger', 'legs': 2, 'age': 1}\n"
     ]
    }
   ],
   "source": [
    "Cock = {\"name\": \"Afto\", \"color\": \"Red\", \"breed\": \"Merger\", \"legs\": 2, \"age\": 1}\n",
    "print(Cock)"
   ]
  },
  {
   "attachments": {},
   "cell_type": "markdown",
   "metadata": {},
   "source": [
    "#### Question 3: Create a student dictionary and add first_name, last_name, gender, age, marital status, skills, country, city and address as keys for the dictionary"
   ]
  },
  {
   "cell_type": "code",
   "execution_count": 4,
   "metadata": {},
   "outputs": [],
   "source": [
    "student_dictionary = {\n",
    "    \"first_name\": \"Rufai\",\n",
    "    \"last_name\": \"Dikko\",\n",
    "    \"gender\": \"Male\",\n",
    "    \"age\": 28,\n",
    "    \"marital_status\": \"Single\",\n",
    "    \"skills\": [\"Data Analysis\"],\n",
    "    \"country\": \"Nigeria\",\n",
    "    \"city\": \"Kano\",\n",
    "    \"address\": \"Sharada Ja'en\",\n",
    "}"
   ]
  },
  {
   "attachments": {},
   "cell_type": "markdown",
   "metadata": {},
   "source": [
    "#### Question 4: Get the length of the student dictionary"
   ]
  },
  {
   "cell_type": "code",
   "execution_count": 5,
   "metadata": {},
   "outputs": [
    {
     "name": "stdout",
     "output_type": "stream",
     "text": [
      "9\n"
     ]
    }
   ],
   "source": [
    "print(len(student_dictionary))"
   ]
  },
  {
   "attachments": {},
   "cell_type": "markdown",
   "metadata": {},
   "source": [
    "#### Question 5: Get the value of skills and check the data type, it should be a list"
   ]
  },
  {
   "cell_type": "code",
   "execution_count": 6,
   "metadata": {},
   "outputs": [
    {
     "name": "stdout",
     "output_type": "stream",
     "text": [
      "['Data Analysis']\n",
      "<class 'list'>\n"
     ]
    }
   ],
   "source": [
    "print(student_dictionary[\"skills\"])\n",
    "print(type(student_dictionary[\"skills\"]))"
   ]
  },
  {
   "attachments": {},
   "cell_type": "markdown",
   "metadata": {},
   "source": [
    "#### Question 6: Modify the skills values by adding one or two skills"
   ]
  },
  {
   "cell_type": "code",
   "execution_count": 11,
   "metadata": {},
   "outputs": [
    {
     "name": "stdout",
     "output_type": "stream",
     "text": [
      "['Data Analysis', 'Cooking']\n"
     ]
    }
   ],
   "source": [
    "student_dictionary[\"skills\"].append(\"Cooking\")\n",
    "print(student_dictionary[\"skills\"])"
   ]
  },
  {
   "attachments": {},
   "cell_type": "markdown",
   "metadata": {},
   "source": [
    "#### Question 7: Get the dictionary keys as a list"
   ]
  },
  {
   "cell_type": "code",
   "execution_count": 12,
   "metadata": {},
   "outputs": [
    {
     "name": "stdout",
     "output_type": "stream",
     "text": [
      "<class 'list'>\n"
     ]
    }
   ],
   "source": [
    "list_keys = list(student_dictionary.keys())\n",
    "print(list)"
   ]
  },
  {
   "attachments": {},
   "cell_type": "markdown",
   "metadata": {},
   "source": [
    "#### Question 8: Get the dictionary values as a list"
   ]
  },
  {
   "cell_type": "code",
   "execution_count": 13,
   "metadata": {},
   "outputs": [],
   "source": [
    "list_keys = list(student_dictionary.keys())"
   ]
  },
  {
   "attachments": {},
   "cell_type": "markdown",
   "metadata": {},
   "source": [
    "#### Question 9: Change the dictionary to a list of tuples using items() method"
   ]
  },
  {
   "cell_type": "code",
   "execution_count": 14,
   "metadata": {},
   "outputs": [
    {
     "name": "stdout",
     "output_type": "stream",
     "text": [
      "[('first_name', 'Rufai'), ('last_name', 'Dikko'), ('gender', 'Male'), ('age', 28), ('marital_status', 'Single'), ('skills', ['Data Analysis', 'Cooking']), ('country', 'Nigeria'), ('city', 'Kano'), ('address', \"Sharada Ja'en\")]\n"
     ]
    }
   ],
   "source": [
    "list_of_tuples = [(k, v) for k, v in student_dictionary.items()]\n",
    "print(list_of_tuples)"
   ]
  },
  {
   "attachments": {},
   "cell_type": "markdown",
   "metadata": {},
   "source": [
    "#### Question 10: Delete one of the items in the dictionary"
   ]
  },
  {
   "cell_type": "code",
   "execution_count": 15,
   "metadata": {},
   "outputs": [
    {
     "data": {
      "text/plain": [
       "\"Sharada Ja'en\""
      ]
     },
     "execution_count": 15,
     "metadata": {},
     "output_type": "execute_result"
    }
   ],
   "source": [
    "student_dictionary.pop(\"address\")"
   ]
  },
  {
   "attachments": {},
   "cell_type": "markdown",
   "metadata": {},
   "source": [
    "#### Question 11: Delete one of the dictionaries"
   ]
  },
  {
   "cell_type": "code",
   "execution_count": 16,
   "metadata": {},
   "outputs": [],
   "source": [
    "del Cock "
   ]
  }
 ],
 "metadata": {
  "kernelspec": {
   "display_name": "arewads",
   "language": "python",
   "name": "python3"
  },
  "language_info": {
   "codemirror_mode": {
    "name": "ipython",
    "version": 3
   },
   "file_extension": ".py",
   "mimetype": "text/x-python",
   "name": "python",
   "nbconvert_exporter": "python",
   "pygments_lexer": "ipython3",
   "version": "3.10.9"
  },
  "orig_nbformat": 4,
  "vscode": {
   "interpreter": {
    "hash": "5f70357f8ed03854c30a30b7c8ee64e9bef4e6ec8377016a67c99401855002f0"
   }
  }
 },
 "nbformat": 4,
 "nbformat_minor": 2
}
