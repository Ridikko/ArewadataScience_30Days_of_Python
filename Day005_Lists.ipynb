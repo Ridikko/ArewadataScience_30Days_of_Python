{
 "cells": [
  {
   "attachments": {},
   "cell_type": "markdown",
   "metadata": {},
   "source": [
    "## DAY 5"
   ]
  },
  {
   "attachments": {},
   "cell_type": "markdown",
   "metadata": {},
   "source": [
    "### EXERCISES: LEVEL 1"
   ]
  },
  {
   "attachments": {},
   "cell_type": "markdown",
   "metadata": {},
   "source": [
    "#### Question 1: Declare an empty list"
   ]
  },
  {
   "cell_type": "code",
   "execution_count": 1,
   "metadata": {},
   "outputs": [],
   "source": [
    "empty_list = list()"
   ]
  },
  {
   "attachments": {},
   "cell_type": "markdown",
   "metadata": {},
   "source": [
    "#### Question 2: Declare a list with more than 5 items"
   ]
  },
  {
   "cell_type": "code",
   "execution_count": 4,
   "metadata": {},
   "outputs": [],
   "source": [
    "items_list = [1, 2, 3, 4, 5, 6, 7, 8, 9]"
   ]
  },
  {
   "attachments": {},
   "cell_type": "markdown",
   "metadata": {},
   "source": [
    "#### Question 3: Find the length of your list"
   ]
  },
  {
   "cell_type": "code",
   "execution_count": 5,
   "metadata": {},
   "outputs": [
    {
     "name": "stdout",
     "output_type": "stream",
     "text": [
      "9\n"
     ]
    }
   ],
   "source": [
    "print(len(items_list))"
   ]
  },
  {
   "attachments": {},
   "cell_type": "markdown",
   "metadata": {},
   "source": [
    "#### Question 4: Get the first item, the middle item and the last item of the list"
   ]
  },
  {
   "cell_type": "code",
   "execution_count": 6,
   "metadata": {},
   "outputs": [
    {
     "name": "stdout",
     "output_type": "stream",
     "text": [
      "1 5 9\n"
     ]
    }
   ],
   "source": [
    "print(items_list[0], items_list[len(items_list) // 2], items_list[-1])"
   ]
  },
  {
   "attachments": {},
   "cell_type": "markdown",
   "metadata": {},
   "source": [
    "#### Question 5: Declare a list called mixed_data_types, put your (name, age, height, marital status, address)"
   ]
  },
  {
   "cell_type": "code",
   "execution_count": 8,
   "metadata": {},
   "outputs": [],
   "source": [
    "mixed_data_types = ['Dikko', 27, 165, 'Single', 'Sharada Jaen']"
   ]
  },
  {
   "attachments": {},
   "cell_type": "markdown",
   "metadata": {},
   "source": [
    "#### Question 6: Declare a list variable named it_companies and assign initial values Facebook, Google, Microsoft, Apple, IBM, Oracle and Amazon."
   ]
  },
  {
   "cell_type": "code",
   "execution_count": 3,
   "metadata": {},
   "outputs": [],
   "source": [
    "it_companies = ['SteadfastTech.', 'Steamledge', 'ArewaDEV', 'DikkoNet', 'RunaskNet', 'Engausa', 'KanoHub']"
   ]
  },
  {
   "attachments": {},
   "cell_type": "markdown",
   "metadata": {},
   "source": [
    "#### Question 7: Print the list using print()"
   ]
  },
  {
   "cell_type": "code",
   "execution_count": 4,
   "metadata": {},
   "outputs": [
    {
     "name": "stdout",
     "output_type": "stream",
     "text": [
      "['SteadfastTech.', 'Steamledge', 'ArewaDEV', 'DikkoNet', 'RunaskNet', 'Engausa', 'KanoHub']\n"
     ]
    }
   ],
   "source": [
    "print(it_companies)"
   ]
  },
  {
   "attachments": {},
   "cell_type": "markdown",
   "metadata": {},
   "source": [
    "#### Question 8: Print the number of companies in the list"
   ]
  },
  {
   "cell_type": "code",
   "execution_count": 5,
   "metadata": {},
   "outputs": [
    {
     "name": "stdout",
     "output_type": "stream",
     "text": [
      "7\n"
     ]
    }
   ],
   "source": [
    "print(len(it_companies))"
   ]
  },
  {
   "attachments": {},
   "cell_type": "markdown",
   "metadata": {},
   "source": [
    "#### Question 9: Print the first, middle and last company"
   ]
  },
  {
   "cell_type": "code",
   "execution_count": 6,
   "metadata": {},
   "outputs": [
    {
     "name": "stdout",
     "output_type": "stream",
     "text": [
      "SteadfastTech. DikkoNet KanoHub\n"
     ]
    }
   ],
   "source": [
    "print(it_companies[0], it_companies[len(it_companies) // 2], it_companies[-1])"
   ]
  },
  {
   "attachments": {},
   "cell_type": "markdown",
   "metadata": {},
   "source": [
    "#### Question 10: Print the list after modifying one of the companies"
   ]
  },
  {
   "cell_type": "code",
   "execution_count": 7,
   "metadata": {},
   "outputs": [
    {
     "name": "stdout",
     "output_type": "stream",
     "text": [
      "['DikkoNet', 'Steamledge', 'ArewaDEV', 'DikkoNet', 'RunaskNet', 'Engausa', 'KanoHub']\n"
     ]
    }
   ],
   "source": [
    "it_companies[0] = 'DikkoNet'\n",
    "print(it_companies)"
   ]
  },
  {
   "attachments": {},
   "cell_type": "markdown",
   "metadata": {},
   "source": [
    "#### Question 11: Add an IT company to it_companies"
   ]
  },
  {
   "cell_type": "code",
   "execution_count": 16,
   "metadata": {},
   "outputs": [
    {
     "name": "stdout",
     "output_type": "stream",
     "text": [
      "['Steadfast Tech.', 'Steamledge', 'ArewaDEV', 'DikkoNet', 'RunaskNet', 'Engausa', 'KanoHub', 'SANTECH']\n"
     ]
    }
   ],
   "source": [
    "it_companies = ['Steadfast Tech.', 'Steamledge', 'ArewaDEV', 'DikkoNet', 'RunaskNet', 'Engausa', 'KanoHub']\n",
    "it_companies.append('SANTECH')\n",
    "print(it_companies)"
   ]
  },
  {
   "attachments": {},
   "cell_type": "markdown",
   "metadata": {},
   "source": [
    "#### Question 12: Insert an IT company in the middle of the companies list"
   ]
  },
  {
   "cell_type": "code",
   "execution_count": 17,
   "metadata": {},
   "outputs": [
    {
     "name": "stdout",
     "output_type": "stream",
     "text": [
      "['Steadfast Tech.', 'Steamledge', 'ArewaDEV', 'SANTECH', 'DikkoNet', 'RunaskNet', 'Engausa', 'KanoHub']\n"
     ]
    }
   ],
   "source": [
    "it_companies = ['Steadfast Tech.', 'Steamledge', 'ArewaDEV', 'DikkoNet', 'RunaskNet', 'Engausa', 'KanoHub']\n",
    "it_companies.insert(3, 'SANTECH')\n",
    "print(it_companies)"
   ]
  },
  {
   "attachments": {},
   "cell_type": "markdown",
   "metadata": {},
   "source": [
    "#### Question 13: Change one of the it_companies names to uppercase."
   ]
  },
  {
   "cell_type": "code",
   "execution_count": 18,
   "metadata": {},
   "outputs": [
    {
     "name": "stdout",
     "output_type": "stream",
     "text": [
      "['STEADFAST TECH.', 'Steamledge', 'ArewaDEV', 'SANTECH', 'DikkoNet', 'RunaskNet', 'Engausa', 'KanoHub']\n"
     ]
    }
   ],
   "source": [
    "it_companies[0] = it_companies[0].upper()\n",
    "print(it_companies)\n"
   ]
  },
  {
   "attachments": {},
   "cell_type": "markdown",
   "metadata": {},
   "source": [
    "#### Question 14:   Join the it_companies with a string '#;  '\n",
    "\n"
   ]
  },
  {
   "cell_type": "code",
   "execution_count": 19,
   "metadata": {},
   "outputs": [
    {
     "name": "stdout",
     "output_type": "stream",
     "text": [
      "['STEADFAST TECH.', 'Steamledge', 'ArewaDEV', 'SANTECH', 'DikkoNet', 'RunaskNet', 'Engausa', 'KanoHub']\n"
     ]
    }
   ],
   "source": [
    "it_companies_hash = '#'.join(it_companies)\n",
    "print(it_companies)"
   ]
  },
  {
   "attachments": {},
   "cell_type": "markdown",
   "metadata": {},
   "source": [
    "#### Question 15: Check if a certain company exists in the it_companies list."
   ]
  },
  {
   "cell_type": "code",
   "execution_count": 20,
   "metadata": {},
   "outputs": [
    {
     "name": "stdout",
     "output_type": "stream",
     "text": [
      "True\n"
     ]
    }
   ],
   "source": [
    "print('SANTECH' in it_companies)"
   ]
  },
  {
   "attachments": {},
   "cell_type": "markdown",
   "metadata": {},
   "source": [
    "#### Question 16: Sort the list using sort() method"
   ]
  },
  {
   "cell_type": "code",
   "execution_count": 21,
   "metadata": {},
   "outputs": [
    {
     "name": "stdout",
     "output_type": "stream",
     "text": [
      "['ArewaDEV', 'DikkoNet', 'Engausa', 'KanoHub', 'RunaskNet', 'SANTECH', 'STEADFAST TECH.', 'Steamledge']\n"
     ]
    }
   ],
   "source": [
    "it_companies.sort()\n",
    "print(it_companies)"
   ]
  },
  {
   "attachments": {},
   "cell_type": "markdown",
   "metadata": {},
   "source": [
    "#### Question 17: Reverse the list in descending order using reverse() method"
   ]
  },
  {
   "cell_type": "code",
   "execution_count": 22,
   "metadata": {},
   "outputs": [
    {
     "name": "stdout",
     "output_type": "stream",
     "text": [
      "['Steamledge', 'STEADFAST TECH.', 'SANTECH', 'RunaskNet', 'KanoHub', 'Engausa', 'DikkoNet', 'ArewaDEV']\n"
     ]
    }
   ],
   "source": [
    "it_companies.reverse()\n",
    "print(it_companies)"
   ]
  },
  {
   "attachments": {},
   "cell_type": "markdown",
   "metadata": {},
   "source": [
    "#### Question 18: Slice out the first 3 companies from the list"
   ]
  },
  {
   "cell_type": "code",
   "execution_count": 27,
   "metadata": {},
   "outputs": [
    {
     "name": "stdout",
     "output_type": "stream",
     "text": [
      "[]\n"
     ]
    }
   ],
   "source": [
    "it_companies = it_companies[3:]\n",
    "print(it_companies)"
   ]
  },
  {
   "attachments": {},
   "cell_type": "markdown",
   "metadata": {},
   "source": [
    "#### Question 19: Slice out the last 3 companies from the list"
   ]
  },
  {
   "cell_type": "code",
   "execution_count": 29,
   "metadata": {},
   "outputs": [
    {
     "name": "stdout",
     "output_type": "stream",
     "text": [
      "[]\n"
     ]
    }
   ],
   "source": [
    "it_companies = it_companies[:4]\n",
    "print(it_companies)"
   ]
  },
  {
   "attachments": {},
   "cell_type": "markdown",
   "metadata": {},
   "source": [
    "#### Question 20: Slice out the middle IT company or companies from the list"
   ]
  },
  {
   "cell_type": "code",
   "execution_count": 30,
   "metadata": {},
   "outputs": [
    {
     "name": "stdout",
     "output_type": "stream",
     "text": [
      "[]\n"
     ]
    }
   ],
   "source": [
    "it_companies =['ArewaDEV', 'DikkoNet', 'Engausa', 'KanoHub', 'RunaskNet', 'SANTECH', 'STEADFAST TECH.', 'Steamledge']\n",
    "it_companies=it_companies[-4:-5]\n",
    "print(it_companies)"
   ]
  },
  {
   "attachments": {},
   "cell_type": "markdown",
   "metadata": {},
   "source": [
    "#### Question 21: Remove the first IT company from the list"
   ]
  },
  {
   "cell_type": "code",
   "execution_count": 1,
   "metadata": {},
   "outputs": [
    {
     "name": "stdout",
     "output_type": "stream",
     "text": [
      "['DikkoNet', 'Engausa', 'KanoHub', 'RunaskNet', 'SANTECH', 'STEADFAST TECH.', 'Steamledge']\n"
     ]
    }
   ],
   "source": [
    "it_companies = ['ArewaDEV', 'DikkoNet', 'Engausa', 'KanoHub', 'RunaskNet', 'SANTECH', 'STEADFAST TECH.', 'Steamledge']\n",
    "it_companies.pop(0)\n",
    "print(it_companies)"
   ]
  },
  {
   "attachments": {},
   "cell_type": "markdown",
   "metadata": {},
   "source": [
    "#### Question 22: Remove the middle IT company or companies from the list"
   ]
  },
  {
   "cell_type": "code",
   "execution_count": 12,
   "metadata": {},
   "outputs": [
    {
     "name": "stdout",
     "output_type": "stream",
     "text": [
      "['ArewaDEV', 'DikkoNet', 'Engausa', 'RunaskNet', 'SANTECH', 'STEADFAST TECH.', 'Steamledge']\n"
     ]
    }
   ],
   "source": [
    "it_companies =['ArewaDEV', 'DikkoNet', 'Engausa', 'KanoHub', 'RunaskNet', 'SANTECH', 'STEADFAST TECH.', 'Steamledge']\n",
    "it_companies.pop(3)\n",
    "print(it_companies)"
   ]
  },
  {
   "attachments": {},
   "cell_type": "markdown",
   "metadata": {},
   "source": [
    "#### Question 23: Remove the last IT company from the list"
   ]
  },
  {
   "cell_type": "code",
   "execution_count": 4,
   "metadata": {},
   "outputs": [
    {
     "name": "stdout",
     "output_type": "stream",
     "text": [
      "['ArewaDEV', 'DikkoNet', 'Engausa', 'KanoHub', 'RunaskNet', 'SANTECH', 'STEADFAST TECH.']\n"
     ]
    }
   ],
   "source": [
    "it_companies =['ArewaDEV', 'DikkoNet', 'Engausa', 'KanoHub', 'RunaskNet', 'SANTECH', 'STEADFAST TECH.', 'Steamledge']\n",
    "it_companies.pop(7)\n",
    "print(it_companies)"
   ]
  },
  {
   "attachments": {},
   "cell_type": "markdown",
   "metadata": {},
   "source": [
    "#### Question 24: Remove all IT companies from the list"
   ]
  },
  {
   "cell_type": "code",
   "execution_count": 13,
   "metadata": {},
   "outputs": [
    {
     "name": "stdout",
     "output_type": "stream",
     "text": [
      "[]\n"
     ]
    }
   ],
   "source": [
    "it_companies.clear()\n",
    "print(it_companies)"
   ]
  },
  {
   "attachments": {},
   "cell_type": "markdown",
   "metadata": {},
   "source": [
    "#### Question 25: Destroy the IT companies list"
   ]
  },
  {
   "cell_type": "code",
   "execution_count": null,
   "metadata": {},
   "outputs": [],
   "source": [
    "del it_companies\n",
    "print(it_companies)"
   ]
  },
  {
   "attachments": {},
   "cell_type": "markdown",
   "metadata": {},
   "source": [
    "#### Question 26:  Join the following lists:\n",
    "\n",
    "front_end = ['HTML', 'CSS', 'JS', 'React', 'Redux']\n",
    "back_end = ['Node','Express', 'MongoDB']\n"
   ]
  },
  {
   "cell_type": "code",
   "execution_count": 22,
   "metadata": {},
   "outputs": [
    {
     "name": "stdout",
     "output_type": "stream",
     "text": [
      "['HTML', 'CSS', 'JS', 'React', 'Redux', 'Node', 'Express', 'MongoDB']\n"
     ]
    }
   ],
   "source": [
    "front_end = ['HTML', 'CSS', 'JS', 'React', 'Redux']\n",
    "back_end = ['Node', 'Express', 'MongoDB']\n",
    "front_end_and_back_end = front_end + back_end\n",
    "print(front_end_and_back_end)"
   ]
  },
  {
   "attachments": {},
   "cell_type": "markdown",
   "metadata": {},
   "source": [
    "#### Question 27: After joining the lists in question 26. Copy the joined list and assign it to a variable full_stack. Then insert Python and SQL after Redux."
   ]
  },
  {
   "cell_type": "code",
   "execution_count": 21,
   "metadata": {},
   "outputs": [
    {
     "name": "stdout",
     "output_type": "stream",
     "text": [
      "['HTML', 'CSS', 'JS', 'React', 'Redux', 'Python', 'SQL', 'Node', 'Express', 'MongoDB']\n"
     ]
    }
   ],
   "source": [
    "full_stack = ['HTML', 'CSS', 'JS', 'React', 'Redux', 'Node', 'Express', 'MongoDB']\n",
    "full_stack.insert(5, 'Python')\n",
    "full_stack.insert(6, 'SQL')\n",
    "print(full_stack)"
   ]
  },
  {
   "attachments": {},
   "cell_type": "markdown",
   "metadata": {},
   "source": [
    "### EXERCISES: LEVEL 2"
   ]
  },
  {
   "attachments": {},
   "cell_type": "markdown",
   "metadata": {},
   "source": [
    "#### Question 1: The following is a list of 10 students ages:\n",
    "ages = [19, 22, 19, 24, 20, 25, 26, 24, 25, 24]\n",
    "Sort the list and find the min and max age. \n",
    "\n",
    "Find the range of the ages (max minus min)\n",
    "\n",
    "Compare the value of (min - average) and (max - average), use abs() method."
   ]
  },
  {
   "cell_type": "code",
   "execution_count": 25,
   "metadata": {},
   "outputs": [
    {
     "name": "stdout",
     "output_type": "stream",
     "text": [
      "[19, 19, 20, 22, 24, 24, 24, 25, 25, 26]\n",
      "26\n",
      "19\n"
     ]
    }
   ],
   "source": [
    "ages = [19, 22, 19, 24, 20, 25, 26, 24, 25, 24]\n",
    "ages.sort()\n",
    "print(ages)\n",
    "# Find the maximum value in the list\n",
    "print(max(ages))\n",
    "print(min(ages))"
   ]
  },
  {
   "attachments": {},
   "cell_type": "markdown",
   "metadata": {},
   "source": [
    "Add the min age and the max age again to the list; "
   ]
  },
  {
   "cell_type": "code",
   "execution_count": 26,
   "metadata": {},
   "outputs": [
    {
     "name": "stdout",
     "output_type": "stream",
     "text": [
      "[19, 22, 19, 24, 20, 25, 26, 24, 25, 24, 'min', 'max']\n"
     ]
    }
   ],
   "source": [
    "ages = [19, 22, 19, 24, 20, 25, 26, 24, 25, 24]\n",
    "ages.append('min')\n",
    "ages.append('max')\n",
    "print(ages)"
   ]
  },
  {
   "attachments": {},
   "cell_type": "markdown",
   "metadata": {},
   "source": [
    "Find the median age (one middle item or two middle items divided by two); "
   ]
  },
  {
   "cell_type": "code",
   "execution_count": 27,
   "metadata": {},
   "outputs": [
    {
     "name": "stdout",
     "output_type": "stream",
     "text": [
      "Median of list1 =  24.0\n"
     ]
    }
   ],
   "source": [
    "def median(list):\n",
    "    list.sort()\n",
    "    l = len(list)\n",
    "    \n",
    "    mid = (l-1)//2\n",
    "    \n",
    "    if(l%2==0):\n",
    "        return (list[mid] + list[mid+1])/2\n",
    "    else:\n",
    "        return list[mid]\n",
    "        \n",
    "list = [19, 22, 19, 24, 20, 25, 26, 24, 25, 24]\n",
    "print(\"Median of list1 = \", median(list))"
   ]
  },
  {
   "attachments": {},
   "cell_type": "markdown",
   "metadata": {},
   "source": [
    "Find the average age (sum of all items divided by their number); "
   ]
  },
  {
   "cell_type": "code",
   "execution_count": 28,
   "metadata": {},
   "outputs": [
    {
     "name": "stdout",
     "output_type": "stream",
     "text": [
      "sum =  19\n",
      "sum =  22\n",
      "sum =  19\n",
      "sum =  24\n",
      "sum =  20\n",
      "sum =  25\n",
      "sum =  26\n",
      "sum =  24\n",
      "sum =  25\n",
      "sum =  24\n",
      "average =  2.4\n"
     ]
    }
   ],
   "source": [
    "ages =[19, 22, 19, 24, 20, 25, 26, 24, 25, 24]\n",
    "for i in ages:\n",
    "    count = 0\n",
    "    count += i\n",
    "    avg = count/len(ages)\n",
    "    print(\"sum = \", count)\n",
    "print(\"average = \", avg)"
   ]
  },
  {
   "attachments": {},
   "cell_type": "markdown",
   "metadata": {},
   "source": [
    "#### Question 2: Find the middle country(ies) in the countries list"
   ]
  },
  {
   "cell_type": "code",
   "execution_count": 29,
   "metadata": {},
   "outputs": [
    {
     "name": "stdout",
     "output_type": "stream",
     "text": [
      "193\n",
      "96.5\n",
      "Lesotho\n"
     ]
    }
   ],
   "source": [
    "countries=['Afghanistan', 'Albania', 'Algeria', 'Andorra',\n",
    "'Angola', 'Antigua and Barbuda', 'Argentina', 'Armenia',\n",
    "'Australia', 'Austria', 'Azerbaijan', 'Bahamas', 'Bahrain',\n",
    "'Bangladesh', 'Barbados', 'Belarus', 'Belgium', 'Belize', \n",
    "'Benin', 'Bhutan', 'Bolivia', 'Bosnia and Herzegovina',\n",
    "'Botswana', 'Brazil', 'Brunei', 'Bulgaria', 'Burkina Faso', \n",
    "'Burundi', 'Cambodia','Cameroon', 'Canada', 'Cape Verde',\n",
    "'Central African Republic', 'Chad', 'Chile', 'China', 'Colombi',\n",
    "'Comoros', 'Congo (Brazzaville)', 'Congo', 'Costa Rica', \"Cote d'Ivoire\",\n",
    "'Croatia', 'Cuba', 'Cyprus', 'Czech Republic', 'Denmark', 'Djibouti', \n",
    "'Dominica', 'Dominican Republic', 'East Timor (Timor Timur)', 'Ecuador',\n",
    "'Egypt', 'El Salvador', 'Equatorial Guinea', 'Eritrea', 'Estonia',\n",
    "'Ethiopia', 'Fiji', 'Finland', 'France', 'Gabon', 'Gambia, The',\n",
    "'Georgia', 'Germany', 'Ghana', 'Greece', 'Grenada', 'Guatemala',\n",
    "'Guinea', 'Guinea-Bissau', 'Guyana', 'Haiti', 'Honduras',\n",
    "'Hungary', 'Iceland', 'India', 'Indonesia', 'Iran', 'Iraq',\n",
    "'Ireland', 'Israel', 'Italy', 'Jamaica', 'Japan', 'Jordan',\n",
    "'Kazakhstan', 'Kenya', 'Kiribati', 'Korea, North', 'Korea, South',\n",
    "'Kuwait','Kyrgyzstan', 'Laos', 'Latvia', 'Lebanon', 'Lesotho',\n",
    "'Liberia', 'Libya', 'Liechtenstein', 'Lithuania', 'Luxembourg',\n",
    "'Macedonia', 'Madagascar', 'Malawi', 'Malaysia', 'Maldives',\n",
    "'Mali', 'Malta', 'Marshall Islands', 'Mauritania', 'Mauritius',\n",
    "'Mexico', 'Micronesia', 'Moldova', 'Monaco', 'Mongolia',\n",
    "'Morocco', 'Mozambique', 'Myanmar', 'Namibia', 'Nauru', 'Nepal',\n",
    "'Netherlands', 'New Zealand', 'Nicaragua', 'Niger', 'Nigeria', \n",
    "'Norway', 'Oman', 'Pakistan', 'Palau', 'Panama', 'Papua New Guinea',\n",
    "'Paraguay', 'Peru', 'Philippines', 'Poland', 'Portugal', 'Qatar',\n",
    "'Romania', 'Russia', 'Rwanda', 'Saint Kitts and Nevis',\n",
    "'Saint Lucia', 'Saint Vincent', 'Samoa', 'San Marino',\n",
    "'Sao Tome and Principe', 'Saudi Arabia', 'Senegal',\n",
    "'Serbia and Montenegro', 'Seychelles', 'Sierra Leone',\n",
    "'Singapore', 'Slovakia', 'Slovenia', 'Solomon Islands', \n",
    "'Somalia', 'South Africa', 'Spain', 'Sri Lanka', 'Sudan',\n",
    "'Suriname', 'Swaziland', 'Sweden', 'Switzerland', 'Syria',\n",
    "'Taiwan', 'Tajikistan', 'Tanzania', 'Thailand', 'Togo',\n",
    "'Tonga', 'Trinidad and Tobago', 'Tunisia', 'Turkey', \n",
    "'Turkmenistan', 'Tuvalu', 'Uganda', 'Ukraine', 'United Arab Emirates', 'United Kingdom', \n",
    "'United States', 'Uruguay', 'Uzbekistan', \n",
    "'Vanuatu', 'Vatican City', 'Venezuela', 'Vietnam', 'Yemen', \n",
    "'Zambia', 'Zimbabwe']\n",
    "\n",
    "len_of_countries = len(countries)\n",
    "print(len_of_countries)\n",
    "print(193/2)\n",
    "print(countries[96])"
   ]
  },
  {
   "attachments": {},
   "cell_type": "markdown",
   "metadata": {},
   "source": [
    "#### Question 3: Divide the countries list into two equal lists if it is even if not one more country for the first half."
   ]
  },
  {
   "cell_type": "code",
   "execution_count": null,
   "metadata": {},
   "outputs": [],
   "source": []
  },
  {
   "attachments": {},
   "cell_type": "markdown",
   "metadata": {},
   "source": [
    "#### Question 4: ['China', 'Russia', 'USA', 'Finland', 'Sweden', 'Norway', 'Denmark']. Unpack the first three countries and the rest as scandic countries."
   ]
  },
  {
   "cell_type": "code",
   "execution_count": 30,
   "metadata": {},
   "outputs": [
    {
     "name": "stdout",
     "output_type": "stream",
     "text": [
      "China\n",
      "Russia\n",
      "USA\n",
      "['Finland', 'Sweden', 'Norway']\n"
     ]
    }
   ],
   "source": [
    "second_countries = ['China', 'Russia', 'USA', 'Finland', 'Sweden', 'Norway']\n",
    "ch, ru, us, *scandic, = second_countries\n",
    "print(ch)\n",
    "print(ru)\n",
    "print(us)\n",
    "print(scandic)"
   ]
  }
 ],
 "metadata": {
  "kernelspec": {
   "display_name": "arewads",
   "language": "python",
   "name": "python3"
  },
  "language_info": {
   "codemirror_mode": {
    "name": "ipython",
    "version": 3
   },
   "file_extension": ".py",
   "mimetype": "text/x-python",
   "name": "python",
   "nbconvert_exporter": "python",
   "pygments_lexer": "ipython3",
   "version": "3.10.9"
  },
  "orig_nbformat": 4,
  "vscode": {
   "interpreter": {
    "hash": "5f70357f8ed03854c30a30b7c8ee64e9bef4e6ec8377016a67c99401855002f0"
   }
  }
 },
 "nbformat": 4,
 "nbformat_minor": 2
}
