{
 "cells": [
  {
   "attachments": {},
   "cell_type": "markdown",
   "metadata": {},
   "source": [
    "## DAY 18"
   ]
  },
  {
   "attachments": {},
   "cell_type": "markdown",
   "metadata": {},
   "source": [
    "### Exercises: Level 1"
   ]
  },
  {
   "attachments": {},
   "cell_type": "markdown",
   "metadata": {},
   "source": [
    "#### Question 1: What is the most frequent word in the following paragraph?\n",
    "####   paragraph = 'I love teaching. If you do not love teaching what else can you love. I love Python if you do not love something which can give you all the capabilities to develop an application what else can you love."
   ]
  },
  {
   "cell_type": "code",
   "execution_count": 1,
   "metadata": {},
   "outputs": [
    {
     "data": {
      "text/plain": [
       "('love', 6)"
      ]
     },
     "execution_count": 1,
     "metadata": {},
     "output_type": "execute_result"
    }
   ],
   "source": [
    "import re\n",
    "paragraph = \"I love teaching. If you do not love teaching what else can you love. I love Python if you do not love \" \\\n",
    "            \"something which can give you all the capabilities to develop an application what else can you love. \"\n",
    "words = paragraph.replace('.','').split(' ')\n",
    "dict = {}\n",
    "for word in words:\n",
    "    dict[word] = dict.get(word,0) + 1\n",
    "sort_keysvalue = sorted(dict.items(),key = lambda x:x[1], reverse=True)\n",
    "sort_keysvalue[0]"
   ]
  },
  {
   "attachments": {},
   "cell_type": "markdown",
   "metadata": {},
   "source": [
    "#### Question 2: The position of some particles on the horizontal x-axis are -12, -4, -3 and -1 in the negative direction, 0 at origin, 4 and 8 in the positive direction. Extract these numbers from this whole text and find the distance between the two furthest particles.\n",
    "##### points = ['-1', '2', '-4', '-3', '-1', '0', '4', '8']\n",
    "##### sorted_points =  [-4, -3, -1, -1, 0, 2, 4, 8]\n",
    "##### distance = 8 -(-4) # 12"
   ]
  },
  {
   "cell_type": "code",
   "execution_count": 2,
   "metadata": {},
   "outputs": [
    {
     "name": "stdout",
     "output_type": "stream",
     "text": [
      "['-1', '2', '-4', '-3', '-1', '0', '4', '8']\n",
      "The distance between the two furthest particles is 12 \n"
     ]
    }
   ],
   "source": [
    "points = ['-1', '2', '-4', '-3', '-1', '0', '4', '8']\n",
    "sorted_points =  [-4, -3, -1, -1, 0, 2, 4, 8]\n",
    "distance = 8 -(-4) # 12  '''\n",
    "string = 'The position of some particles on the horizontal x-axis are -12, -4, -3 and -1 in the negative direction, 0 at origin, 4 and 8 in the positive direction. Extract these numbers from this whole text and find the distance between the'\n",
    "regex= r'-\\d|\\d'\n",
    "points = re.findall(regex,string)\n",
    "print(points)   \n",
    "points.sort()\n",
    "numbers = [int(i) for i in points]\n",
    "numbers.sort()\n",
    "distance = numbers[-1] - numbers[0]\n",
    "print(f'The distance between the two furthest particles is {distance} ')"
   ]
  },
  {
   "attachments": {},
   "cell_type": "markdown",
   "metadata": {},
   "source": [
    "### Exercises: Level 2"
   ]
  },
  {
   "attachments": {},
   "cell_type": "markdown",
   "metadata": {},
   "source": [
    "#### Question: Write a pattern which identifies if a string is a valid python variable\n",
    "\n",
    "##### is_valid_variable('first_name') # True\n",
    "##### is_valid_variable('first-name') # False\n",
    "##### is_valid_variable('1first_name') # False\n",
    "##### is_valid_variable('firstname') # True"
   ]
  },
  {
   "cell_type": "code",
   "execution_count": 3,
   "metadata": {},
   "outputs": [
    {
     "name": "stdout",
     "output_type": "stream",
     "text": [
      "False\n",
      "False\n",
      "True\n",
      "True\n"
     ]
    }
   ],
   "source": [
    "pattern = r\"^[_a-z]\\w*$\"\n",
    "def is_valid_variable(name):\n",
    "    pattern = r\"^[_a-z]\\w*$\"\n",
    "    if not re.match(pattern,name):\n",
    "        print(False)\n",
    "    else:\n",
    "        print(True)\n",
    "\n",
    "is_valid_variable('first-name') \n",
    "is_valid_variable('1first_name')\n",
    "is_valid_variable('firstname') \n",
    "is_valid_variable('first_name')"
   ]
  },
  {
   "attachments": {},
   "cell_type": "markdown",
   "metadata": {},
   "source": [
    "### Exercises: Level 3"
   ]
  },
  {
   "attachments": {},
   "cell_type": "markdown",
   "metadata": {},
   "source": [
    "#### Question: Clean the following text. After cleaning, count three most frequent words in the string.\n",
    "\n",
    "##### sentence = '''%I $am@% a %tea@cher%, &and& I lo%#ve %tea@ching%;. There $is nothing; &as& mo@re rewarding as educa@ting &and& @emp%o@wering peo@ple. ;I found tea@ching m%o@re interesting tha@n any other %jo@bs. %Do@es thi%s mo@tivate yo@u to be a tea@cher!?'''\n",
    "\n",
    "##### print(clean_text(sentence)); I am a teacher and I love teaching There is nothing as more rewarding as educating and empowering people I found teaching more interesting than any other jobs Does this motivate you to be a teacher print(most_frequent_words(cleaned_text)) # [(3, 'I'), (2, 'teaching'), (2, 'teacher')]"
   ]
  },
  {
   "cell_type": "code",
   "execution_count": 4,
   "metadata": {},
   "outputs": [
    {
     "data": {
      "text/plain": [
       "[(3, 'I'), (2, 'teaching'), (2, 'teacher')]"
      ]
     },
     "execution_count": 4,
     "metadata": {},
     "output_type": "execute_result"
    }
   ],
   "source": [
    "sentence = '''%I $am@% a %tea@cher%, &and& I lo%#ve %tea@ching%;. There $is nothing; &as& mo@re rewarding as educa@ting &and& @emp%o@wering peo@ple. ;I found tea@ching m%o@re interesting tha@n any other %jo@bs. %Do@es thi%s mo@tivate yo@u to be a tea@cher!?'''\n",
    "pattern = r'[^\\w\\s]'\n",
    "clean_sentence = re.sub(pattern,'',sentence)\n",
    "\n",
    "def most_frequent_words(text):\n",
    "    words = text.split()\n",
    "    dict = {}\n",
    "    for word in words:\n",
    "          dict[word] = dict.get(word,0) + 1\n",
    "    list = [(val,key) for key,val in dict.items()]\n",
    "    list.sort(reverse=True)\n",
    "    return list[:3]\n",
    "\n",
    "most_frequent_words(clean_sentence)"
   ]
  }
 ],
 "metadata": {
  "kernelspec": {
   "display_name": "arewads",
   "language": "python",
   "name": "python3"
  },
  "language_info": {
   "codemirror_mode": {
    "name": "ipython",
    "version": 3
   },
   "file_extension": ".py",
   "mimetype": "text/x-python",
   "name": "python",
   "nbconvert_exporter": "python",
   "pygments_lexer": "ipython3",
   "version": "3.10.9"
  },
  "orig_nbformat": 4
 },
 "nbformat": 4,
 "nbformat_minor": 2
}
